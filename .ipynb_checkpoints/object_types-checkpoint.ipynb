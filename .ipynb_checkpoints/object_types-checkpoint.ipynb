{
 "cells": [
  {
   "cell_type": "markdown",
   "id": "b8ee90d0-93ad-42ea-8282-ad96679db1b4",
   "metadata": {},
   "source": [
    "## Python Object Types\n",
    "\n",
    "In an informal sense, in Puython \"we do THINGS with STUFF\".\n",
    "\n",
    "- THINGS take the form of operators (+, -, /, * etc)\n",
    "- STUFF refer to objects on which operations are performed.\n",
    "  Data takes the form of \"objects\" and they can be BUILT-IN or CREATED with Python classes or external language tools like C extension libraries.\n",
    "\n",
    "### Python Conceptual Hierachy\n",
    "\n",
    "Python programs can be decomposed into Modules, Statements, Expressions and Objects as follows:\n",
    "\n",
    "- Programs are composed of modules\n",
    "- Modules contain statements\n",
    "- Statements contain expressions\n",
    "- Expressions create and process objects\n",
    "\n",
    "### Why Built-in types?\n",
    "\n",
    "They:\n",
    "\n",
    "- Make programs easy to write\n",
    "- Are components of extensions\n",
    "- Are more efficient\n",
    "- Are a standard part of the language"
   ]
  },
  {
   "cell_type": "code",
   "execution_count": null,
   "id": "ecbcf7d9-156b-477f-9369-36264f1c9002",
   "metadata": {},
   "outputs": [],
   "source": []
  }
 ],
 "metadata": {
  "kernelspec": {
   "display_name": "Python 3 (ipykernel)",
   "language": "python",
   "name": "python3"
  },
  "language_info": {
   "codemirror_mode": {
    "name": "ipython",
    "version": 3
   },
   "file_extension": ".py",
   "mimetype": "text/x-python",
   "name": "python",
   "nbconvert_exporter": "python",
   "pygments_lexer": "ipython3",
   "version": "3.10.10"
  }
 },
 "nbformat": 4,
 "nbformat_minor": 5
}
