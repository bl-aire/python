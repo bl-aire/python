{
 "cells": [
  {
   "cell_type": "markdown",
   "id": "ea7d9f45-e2f1-4b04-9f89-822db125ef97",
   "metadata": {},
   "source": [
    "## Introduction\n",
    "\n",
    "Haven understood python's core data types, we will explore its fundamental statement types and their syntax.\n",
    "While learning about data types, we established that program do **things** with **stuff(data)**. Statements are the way you specify what sorts of things a program does.\n",
    "\n",
    "Simply put:\n",
    "- Python is a **procedural**, **statement-based** language\n",
    "- By combining statements, you specify a **procedure** that Python performs to achieve a program's goals.\n",
    "\n",
    "  **Statement & expression + Statement & expression + Statement & expression + Statement & expression = Procedure which achieve's program's goal**\n",
    "\n",
    "To further understand, we can revisit this Python Concepual Hierachy.\n",
    "Python programs can be decomposed into Modules, Statements, Expressions and Objects as follows:\n",
    "\n",
    "- Programs are composed of modules(.py)\n",
    "- Modules contain statements\n",
    "- Statements contain expressions\n",
    "- Expressions create and process objects"
   ]
  },
  {
   "cell_type": "markdown",
   "id": "e830c132-0481-4c86-aa81-44fdaba5d48b",
   "metadata": {},
   "source": [
    "## Python Statements\n",
    "\n",
    "Each statement in Python has its own **purpose** and **syntax**. The table below shows a few statements and their role:"
   ]
  },
  {
   "cell_type": "markdown",
   "id": "5fa43d7a-23b7-4b97-874d-b459f9ae175a",
   "metadata": {},
   "source": [
    "| Statement | Role |\n",
    "| ----------- | ----------- |\n",
    "| Assignment | Creating references |\n",
    "| Calls and other expressions | Running functions |\n",
    "| Print calls | Printing objects |\n",
    "| if/elif/else | Selecting actions |\n",
    "| for/else | iteration |\n",
    "| while/else | General loops |\n",
    "| pass | Empty placeholder |\n",
    "| break | Loop exit |\n",
    "| continue | Loop continue |\n",
    "| def | Functions and methods |\n",
    "| return | Functions results |\n",
    "| yield | Generator functions |\n",
    "| global | namespaces |\n",
    "| nonlocal | namespaces(3.X) |\n",
    "| import | Module access |\n",
    "| from | Attribute access |\n",
    "| class | Building objects |\n",
    "| try/except/finally | Catching exceptions |\n",
    "| raise | Triggering exceptions |\n",
    "| assert | Debugging checks |\n",
    "| with/as | Context managers |\n",
    "| del | Deleting references |"
   ]
  },
  {
   "cell_type": "markdown",
   "id": "8635778a-7c63-4642-b5c5-da77c086a7dd",
   "metadata": {},
   "source": [
    "## Examples "
   ]
  },
  {
   "cell_type": "markdown",
   "id": "3ed44ed1-2ea8-4a45-8953-84315e28203e",
   "metadata": {},
   "source": [
    "### Assignment"
   ]
  },
  {
   "cell_type": "code",
   "execution_count": 3,
   "id": "7fffa28c-98f2-468d-a291-5efca36dbdd7",
   "metadata": {},
   "outputs": [],
   "source": [
    "b = 'Blessing'"
   ]
  },
  {
   "cell_type": "code",
   "execution_count": 5,
   "id": "f3f595c8-8cda-4675-a650-5ab4d980f49f",
   "metadata": {},
   "outputs": [
    {
     "name": "stdout",
     "output_type": "stream",
     "text": [
      "Blessing\n"
     ]
    }
   ],
   "source": [
    "print(b)"
   ]
  },
  {
   "cell_type": "markdown",
   "id": "1e3307ea-4359-4b3b-bf5d-562124a1681c",
   "metadata": {},
   "source": [
    "### Calls and other expressions"
   ]
  },
  {
   "cell_type": "code",
   "execution_count": null,
   "id": "ba89b676-0bb2-4550-bd07-eaad05511ef7",
   "metadata": {},
   "outputs": [],
   "source": []
  },
  {
   "cell_type": "code",
   "execution_count": null,
   "id": "e369eddf-224a-4727-82d7-58c26b00bf81",
   "metadata": {},
   "outputs": [],
   "source": []
  }
 ],
 "metadata": {
  "kernelspec": {
   "display_name": "Python 3 (ipykernel)",
   "language": "python",
   "name": "python3"
  },
  "language_info": {
   "codemirror_mode": {
    "name": "ipython",
    "version": 3
   },
   "file_extension": ".py",
   "mimetype": "text/x-python",
   "name": "python",
   "nbconvert_exporter": "python",
   "pygments_lexer": "ipython3",
   "version": "3.10.10"
  }
 },
 "nbformat": 4,
 "nbformat_minor": 5
}
