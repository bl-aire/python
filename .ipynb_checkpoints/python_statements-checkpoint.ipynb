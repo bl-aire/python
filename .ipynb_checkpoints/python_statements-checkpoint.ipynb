{
 "cells": [
  {
   "cell_type": "markdown",
   "id": "ea7d9f45-e2f1-4b04-9f89-822db125ef97",
   "metadata": {},
   "source": [
    "## Introduction\n",
    "\n",
    "Haven understood python's core data types, we will explore its fundamental statement types and their syntax.\n",
    "While learning about data types, we established that program do **things** with **stuff(data)**. Statements are the way you specify what sorts of things a program does.\n",
    "\n",
    "Simply put:\n",
    "- Python is a **procedural**, **statement-based** language\n",
    "- By combining statements, you specify a **procedure** that Python performs to achieve a program's goals.\n",
    "\n",
    "  **Statement & expression + Statement & expression + Statement & expression + Statement & expression = Procedure which achieve's program's goal**\n",
    "\n",
    "To further understand, we can revisit this Python Concepual Hierachy.\n",
    "Python programs can be decomposed into Modules, Statements, Expressions and Objects as follows:\n",
    "\n",
    "- Programs are composed of modules(.py)\n",
    "- Modules contain statements\n",
    "- Statements contain expressions\n",
    "- Expressions create and process objects"
   ]
  },
  {
   "cell_type": "markdown",
   "id": "e830c132-0481-4c86-aa81-44fdaba5d48b",
   "metadata": {},
   "source": [
    "## Python Statements\n",
    "\n",
    "Each statement in Python has its own **purpose** and **syntax**. The table below shows a few statements and their role:"
   ]
  },
  {
   "cell_type": "markdown",
   "id": "5fa43d7a-23b7-4b97-874d-b459f9ae175a",
   "metadata": {},
   "source": [
    "| Statement | Role |\n",
    "| ----------- | ----------- |\n",
    "| Assignment | Creating references |\n",
    "| Calls and other expressions | Running functions |\n",
    "| Print calls | Printing objects |\n",
    "| if/elif/else | Selecting actions |\n",
    "| for/else | iteration |\n",
    "| while/else | General loops |\n",
    "| pass | Empty placeholder |\n",
    "| break | Loop exit |\n",
    "| continue | Loop continue |\n",
    "| def | Functions and methods |\n",
    "| return | Functions results |\n",
    "| yield | Generator functions |\n",
    "| global | namespaces |\n",
    "| nonlocal | namespaces(3.X) |\n",
    "| import | Module access |\n",
    "| from | Attribute access |\n",
    "| class | Building objects |\n",
    "| try/except/finally | Catching exceptions |\n",
    "| raise | Triggering exceptions |\n",
    "| assert | Debugging checks |\n",
    "| with/as | Context managers |\n",
    "| del | Deleting references |"
   ]
  },
  {
   "cell_type": "markdown",
   "id": "8635778a-7c63-4642-b5c5-da77c086a7dd",
   "metadata": {},
   "source": [
    "## Examples "
   ]
  },
  {
   "cell_type": "markdown",
   "id": "3ed44ed1-2ea8-4a45-8953-84315e28203e",
   "metadata": {},
   "source": [
    "### Assignment"
   ]
  },
  {
   "cell_type": "code",
   "execution_count": 3,
   "id": "7fffa28c-98f2-468d-a291-5efca36dbdd7",
   "metadata": {},
   "outputs": [],
   "source": [
    "b = \"Blessing\""
   ]
  },
  {
   "cell_type": "code",
   "execution_count": 5,
   "id": "f3f595c8-8cda-4675-a650-5ab4d980f49f",
   "metadata": {},
   "outputs": [
    {
     "name": "stdout",
     "output_type": "stream",
     "text": [
      "Blessing\n"
     ]
    }
   ],
   "source": [
    "print(b)"
   ]
  },
  {
   "cell_type": "markdown",
   "id": "1e3307ea-4359-4b3b-bf5d-562124a1681c",
   "metadata": {},
   "source": [
    "### Calls and other expressions"
   ]
  },
  {
   "cell_type": "code",
   "execution_count": 22,
   "id": "ba89b676-0bb2-4550-bd07-eaad05511ef7",
   "metadata": {},
   "outputs": [
    {
     "name": "stderr",
     "output_type": "stream",
     "text": [
      "WARNING:root:Watch out!\n",
      "ERROR:root:And non-ASCII stuff, too, like Øresund and Malmö\n"
     ]
    }
   ],
   "source": [
    "import logging\n",
    "\n",
    "logging.warning('Watch out!') #will print a message to the console\n",
    "logging.info('I told you so') #will not print anything\n",
    "logging.basicConfig(filename='example.log', encoding='utf-8', level=logging.DEBUG)\n",
    "logging.debug('This message should go to the log file')\n",
    "logging.error('And non-ASCII stuff, too, like Øresund and Malmö')"
   ]
  },
  {
   "cell_type": "code",
   "execution_count": 20,
   "id": "3984b60d-6dc4-4568-9ea6-7edc3eb65105",
   "metadata": {},
   "outputs": [
    {
     "name": "stderr",
     "output_type": "stream",
     "text": [
      "WARNING:root:Doing something!\n"
     ]
    }
   ],
   "source": [
    "def do_this():\n",
    "    logging.warning(\"Doing something!\")\n",
    "do_this()"
   ]
  },
  {
   "cell_type": "markdown",
   "id": "779cdc08-b33e-4597-81d0-4c6036e8bd0b",
   "metadata": {},
   "source": [
    "## Print calls"
   ]
  },
  {
   "cell_type": "code",
   "execution_count": 24,
   "id": "0ea0f81d-5b4f-4b45-80b2-eb6c83bdf2a5",
   "metadata": {},
   "outputs": [
    {
     "name": "stdout",
     "output_type": "stream",
     "text": [
      "Hello, World!\n"
     ]
    }
   ],
   "source": [
    "print(\"Hello, World!\")"
   ]
  },
  {
   "cell_type": "markdown",
   "id": "ae1a483b-8d7d-4dea-86ac-6d49f7e6a402",
   "metadata": {},
   "source": [
    "## if, elif and else"
   ]
  },
  {
   "cell_type": "code",
   "execution_count": 32,
   "id": "35de82e4-786d-4d42-9e4f-b4a08f0e8cda",
   "metadata": {},
   "outputs": [
    {
     "name": "stdout",
     "output_type": "stream",
     "text": [
      "She is doing amazing!\n"
     ]
    }
   ],
   "source": [
    "b = \"She\"\n",
    "\n",
    "if b == \"Blessing\":\n",
    "    print(b + \" \" + \"is learning Python programming\")\n",
    "elif b == \"She\":\n",
    "    print(b + \" \" + \"is doing amazing!\")\n",
    "else:\n",
    "    print(b)"
   ]
  },
  {
   "cell_type": "markdown",
   "id": "3d476eb5-9766-4e49-93b5-c6213433a071",
   "metadata": {},
   "source": [
    "## for, else"
   ]
  },
  {
   "cell_type": "code",
   "execution_count": null,
   "id": "9988d5f6-a70f-4836-b8a1-905d3b85e713",
   "metadata": {},
   "outputs": [],
   "source": [
    "a = 'Hello'\n",
    "\n",
    "for x in a:\n",
    "    print(a)"
   ]
  },
  {
   "cell_type": "markdown",
   "id": "ec0dd526-8cd7-4016-ba68-6125468bf1c3",
   "metadata": {},
   "source": [
    "## while, else"
   ]
  },
  {
   "cell_type": "code",
   "execution_count": 3,
   "id": "6b118978-9021-46b6-865f-e9d82e6aa6c3",
   "metadata": {},
   "outputs": [
    {
     "name": "stdout",
     "output_type": "stream",
     "text": [
      "Hi\n",
      "Hi\n",
      "Hi\n",
      "Hi\n",
      "Hi\n"
     ]
    }
   ],
   "source": [
    "x = 15\n",
    "y = 20\n",
    "\n",
    "while x < y:\n",
    "    print(\"Hi\")\n",
    "    x += 1"
   ]
  },
  {
   "cell_type": "markdown",
   "id": "23cb53b0-2dce-43b5-8146-d2472eda69f8",
   "metadata": {},
   "source": [
    "## pass"
   ]
  },
  {
   "cell_type": "code",
   "execution_count": null,
   "id": "29a8e880-1b74-4c30-9c89-37715be03693",
   "metadata": {},
   "outputs": [],
   "source": [
    "while True:\n",
    "    pass"
   ]
  },
  {
   "cell_type": "markdown",
   "id": "c42f51de-2d0b-4d51-8ffa-b95eedd8232d",
   "metadata": {},
   "source": [
    "## break"
   ]
  },
  {
   "cell_type": "code",
   "execution_count": null,
   "id": "af9fa28b-7fca-4dbe-b899-2eb050ca7f80",
   "metadata": {},
   "outputs": [],
   "source": [
    "while True:\n",
    "    if exittest(): break"
   ]
  },
  {
   "cell_type": "markdown",
   "id": "48e5d528-e383-43b6-ab26-e129bfa8ee0a",
   "metadata": {},
   "source": [
    "## continue"
   ]
  },
  {
   "cell_type": "code",
   "execution_count": null,
   "id": "f33f610d-773c-4350-9289-ba4e2e383ac7",
   "metadata": {},
   "outputs": [],
   "source": [
    "while True:\n",
    "    if skiptest(): continue"
   ]
  },
  {
   "cell_type": "markdown",
   "id": "7754ced9-344c-4451-aa5b-3a2cf0c813d5",
   "metadata": {},
   "source": [
    "## def"
   ]
  },
  {
   "cell_type": "code",
   "execution_count": 9,
   "id": "8cc3af84-e981-4f69-9254-355896ed50e9",
   "metadata": {},
   "outputs": [],
   "source": [
    "def p(a, b, c, d, e):\n",
    "    print(a + b + c + d + e)"
   ]
  },
  {
   "cell_type": "code",
   "execution_count": 10,
   "id": "d86373b1-252b-401c-b285-7524f3f69cce",
   "metadata": {},
   "outputs": [
    {
     "name": "stdout",
     "output_type": "stream",
     "text": [
      "15\n"
     ]
    }
   ],
   "source": [
    "p(1, 2, 3, 4, 5)"
   ]
  },
  {
   "cell_type": "markdown",
   "id": "21ca9424-7dd7-4b6a-a56b-2abed147e700",
   "metadata": {},
   "source": [
    "## return"
   ]
  },
  {
   "cell_type": "code",
   "execution_count": 11,
   "id": "1f58c743-cfd5-4e2d-b74b-524a18b30555",
   "metadata": {},
   "outputs": [],
   "source": [
    "def x(a, b, c, d, e):\n",
    "    return a + b + c + d + e"
   ]
  },
  {
   "cell_type": "markdown",
   "id": "c7ed1b82-a970-4463-a570-5b2bf53887c2",
   "metadata": {},
   "source": [
    "## yeild"
   ]
  },
  {
   "cell_type": "code",
   "execution_count": 4,
   "id": "b4937923-c658-4ac1-b05f-29632bb955ab",
   "metadata": {},
   "outputs": [],
   "source": [
    "def gen(n):\n",
    "    for i in n: yield i*2"
   ]
  },
  {
   "cell_type": "code",
   "execution_count": 5,
   "id": "adc39f10-8201-4f6a-8bfe-1315c81622e7",
   "metadata": {},
   "outputs": [
    {
     "data": {
      "text/plain": [
       "<generator object gen at 0x107975150>"
      ]
     },
     "execution_count": 5,
     "metadata": {},
     "output_type": "execute_result"
    }
   ],
   "source": [
    "gen(\"zero\")"
   ]
  },
  {
   "cell_type": "markdown",
   "id": "b8adfb65-121a-4ceb-94b9-29264cc6bd2f",
   "metadata": {},
   "source": [
    "## import"
   ]
  },
  {
   "cell_type": "code",
   "execution_count": 6,
   "id": "29f3f44a-e33c-4be8-a072-e404f8456337",
   "metadata": {},
   "outputs": [],
   "source": [
    "import sys"
   ]
  },
  {
   "cell_type": "markdown",
   "id": "1f5ad087-b37e-4619-8176-11ef49eefc4e",
   "metadata": {},
   "source": [
    "## from"
   ]
  },
  {
   "cell_type": "code",
   "execution_count": 7,
   "id": "e6c3554e-e369-43b4-8d77-b45136c77902",
   "metadata": {},
   "outputs": [],
   "source": [
    "from sys import stdin"
   ]
  },
  {
   "cell_type": "markdown",
   "id": "c93e1336-0fda-486f-bab6-8efe26160d0f",
   "metadata": {},
   "source": [
    "## class\n",
    "\n",
    "A Class is like an object constructor, or a \"blueprint\" for creating objects."
   ]
  },
  {
   "cell_type": "code",
   "execution_count": 9,
   "id": "20e54203-4a52-4571-b83d-b2ceec8cd43d",
   "metadata": {},
   "outputs": [],
   "source": [
    "# Create a class named MyClass, with a property named x:\n",
    "\n",
    "class MyClass:\n",
    "  x = 5 "
   ]
  },
  {
   "cell_type": "code",
   "execution_count": 10,
   "id": "c4876875-aea5-4748-9544-2471b75e5c1d",
   "metadata": {},
   "outputs": [
    {
     "name": "stdout",
     "output_type": "stream",
     "text": [
      "5\n"
     ]
    }
   ],
   "source": [
    "# Create an object named p1, and print the value of x:\n",
    "\n",
    "p1 = MyClass()\n",
    "print(p1.x)"
   ]
  },
  {
   "cell_type": "code",
   "execution_count": 11,
   "id": "430dcf77-5a5c-4cbe-9a5a-7b9143d3b3ac",
   "metadata": {},
   "outputs": [
    {
     "name": "stdout",
     "output_type": "stream",
     "text": [
      "Blessing\n",
      "100\n"
     ]
    }
   ],
   "source": [
    "# Built-in __init__() function\n",
    "\n",
    "class Person:\n",
    "  def __init__(self, name, age):\n",
    "    self.name = name\n",
    "    self.age = age\n",
    "\n",
    "p1 = Person(\"Blessing\", 100)\n",
    "\n",
    "print(p1.name)\n",
    "print(p1.age)"
   ]
  },
  {
   "cell_type": "code",
   "execution_count": 12,
   "id": "1adb4cb3-a50c-4949-b6f5-f722def39a4b",
   "metadata": {},
   "outputs": [
    {
     "name": "stdout",
     "output_type": "stream",
     "text": [
      "<__main__.Person object at 0x1079a1a10>\n"
     ]
    }
   ],
   "source": [
    "# The __str__() function controls what should be returned when the class object is represented as a string. \n",
    "# If the __str__() function is not set, the string representation of the object is returned\n",
    "\n",
    "class Person:\n",
    "  def __init__(self, name, age):\n",
    "    self.name = name\n",
    "    self.age = age\n",
    "\n",
    "p1 = Person(\"John\", 36)\n",
    "\n",
    "print(p1)"
   ]
  },
  {
   "cell_type": "code",
   "execution_count": 13,
   "id": "245677e8-65e2-42fa-a452-1f968aaedc22",
   "metadata": {},
   "outputs": [
    {
     "name": "stdout",
     "output_type": "stream",
     "text": [
      "John(36)\n"
     ]
    }
   ],
   "source": [
    "class Person:\n",
    "  def __init__(self, name, age):\n",
    "    self.name = name\n",
    "    self.age = age\n",
    "\n",
    "  def __str__(self):\n",
    "    return f\"{self.name}({self.age})\"\n",
    "\n",
    "p1 = Person(\"John\", 36)\n",
    "\n",
    "print(p1)"
   ]
  },
  {
   "cell_type": "code",
   "execution_count": null,
   "id": "e3e4e4a5-ca3d-4367-bf2f-0af80ff165dd",
   "metadata": {},
   "outputs": [],
   "source": []
  }
 ],
 "metadata": {
  "kernelspec": {
   "display_name": "Python 3 (ipykernel)",
   "language": "python",
   "name": "python3"
  },
  "language_info": {
   "codemirror_mode": {
    "name": "ipython",
    "version": 3
   },
   "file_extension": ".py",
   "mimetype": "text/x-python",
   "name": "python",
   "nbconvert_exporter": "python",
   "pygments_lexer": "ipython3",
   "version": "3.11.0"
  }
 },
 "nbformat": 4,
 "nbformat_minor": 5
}
