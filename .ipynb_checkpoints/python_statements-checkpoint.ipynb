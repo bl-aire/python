{
 "cells": [
  {
   "cell_type": "markdown",
   "id": "ea7d9f45-e2f1-4b04-9f89-822db125ef97",
   "metadata": {},
   "source": [
    "## Python Statements\n",
    "\n",
    "Haven understood python's core data types, we will explore its fundamental statement types and their syntax.\n",
    "While learning about data types, we established that program do **things** with **stuff(data)**. Statements are the way you specify what sorts of things a program does.\n",
    "\n",
    "Simply put:\n",
    "- Python is a **procedural**, **statement-based** language\n",
    "- By combining statements, you specify a **procedure** that Python performs to achieve a program's goals.\n",
    "\n",
    "  **Statement + Statement + Statement + Statement = Procedure which achieve's program's goal**\n",
    "\n",
    "To further understand, we can revisit this Python Concepual Hierachy.\n",
    "Python programs can be decomposed into Modules, Statements, Expressions and Objects as follows:\n",
    "\n",
    "- Programs are composed of modules(.py)\n",
    "- Modules contain statements\n",
    "- Statements contain expressions\n",
    "- Expressions create and process objects"
   ]
  },
  {
   "cell_type": "code",
   "execution_count": null,
   "id": "d4b9b281-cdda-4914-993e-2b9b66673960",
   "metadata": {},
   "outputs": [],
   "source": []
  }
 ],
 "metadata": {
  "kernelspec": {
   "display_name": "Python 3 (ipykernel)",
   "language": "python",
   "name": "python3"
  },
  "language_info": {
   "codemirror_mode": {
    "name": "ipython",
    "version": 3
   },
   "file_extension": ".py",
   "mimetype": "text/x-python",
   "name": "python",
   "nbconvert_exporter": "python",
   "pygments_lexer": "ipython3",
   "version": "3.10.10"
  }
 },
 "nbformat": 4,
 "nbformat_minor": 5
}
