{
 "cells": [
  {
   "cell_type": "code",
   "execution_count": 21,
   "id": "71fe5258-c9dc-4576-9c72-e02adb8ad959",
   "metadata": {},
   "outputs": [
    {
     "data": {
      "application/vnd.jupyter.widget-view+json": {
       "model_id": "72096c0234184d889752e082a4894aef",
       "version_major": 2,
       "version_minor": 0
      },
      "text/plain": [
       "Canvas(height=50, width=50)"
      ]
     },
     "metadata": {},
     "output_type": "display_data"
    }
   ],
   "source": [
    "from ipycanvas import Canvas\n",
    "canvas = Canvas(width=50, height=50)\n",
    "canvas"
   ]
  },
  {
   "cell_type": "code",
   "execution_count": 6,
   "id": "7a14d238-d3d4-4d91-a2e9-64d9beb496e7",
   "metadata": {},
   "outputs": [],
   "source": [
    "from ipycanvas import MultiCanvas\n",
    "\n",
    "# Create a multi-layer canvas with 4 layers\n",
    "multi_canvas = MultiCanvas(4, width=200, height=200)\n",
    "multi_canvas[0]  #  Access first layer (background)\n",
    "multi_canvas[3]  #  Access last layer (foreground)\n",
    "multi_canvas\n",
    "multi_canvas.clear()"
   ]
  },
  {
   "cell_type": "code",
   "execution_count": 23,
   "id": "645625ac-b5a7-49f7-8928-57d5d7a53863",
   "metadata": {},
   "outputs": [
    {
     "data": {
      "application/vnd.jupyter.widget-view+json": {
       "model_id": "6e7e9d920f294071b99ab3ba6a78228f",
       "version_major": 2,
       "version_minor": 0
      },
      "text/plain": [
       "Canvas(height=200, width=200)"
      ]
     },
     "metadata": {},
     "output_type": "display_data"
    }
   ],
   "source": [
    "from ipycanvas import Canvas\n",
    "\n",
    "canvas = Canvas(width=200, height=200)\n",
    "\n",
    "canvas.fill_rect(25, 25, 100, 100)\n",
    "canvas.clear_rect(45, 45, 60, 60)\n",
    "canvas.stroke_rect(50, 50, 50, 50)\n",
    "\n",
    "canvas"
   ]
  },
  {
   "cell_type": "code",
   "execution_count": 26,
   "id": "92eb7197-2f13-4ca3-84e5-a200df5b3add",
   "metadata": {},
   "outputs": [
    {
     "data": {
      "application/vnd.jupyter.widget-view+json": {
       "model_id": "36416fa4d2e64fe88ce4701f2d4119dc",
       "version_major": 2,
       "version_minor": 0
      },
      "text/plain": [
       "Canvas(width=800)"
      ]
     },
     "metadata": {},
     "output_type": "display_data"
    }
   ],
   "source": [
    "import numpy as np\n",
    "\n",
    "from ipycanvas import Canvas\n",
    "\n",
    "n_particles = 100_000\n",
    "\n",
    "x = np.array(np.random.rayleigh(250, n_particles), dtype=np.int32)\n",
    "y = np.array(np.random.rayleigh(250, n_particles), dtype=np.int32)\n",
    "size = np.random.randint(1, 3, n_particles)\n",
    "\n",
    "canvas = Canvas(width=800, height=500)\n",
    "\n",
    "canvas.fill_style = \"blue\"\n",
    "canvas.fill_rects(x, y, size)\n",
    "\n",
    "canvas\n"
   ]
  },
  {
   "cell_type": "code",
   "execution_count": 31,
   "id": "a8758133-ed11-48e9-be17-003fb88e0820",
   "metadata": {},
   "outputs": [
    {
     "data": {
      "application/vnd.jupyter.widget-view+json": {
       "model_id": "659e5a49501d4f04b8a3aec6269c781e",
       "version_major": 2,
       "version_minor": 0
      },
      "text/plain": [
       "Canvas(height=300, width=400)"
      ]
     },
     "metadata": {},
     "output_type": "display_data"
    }
   ],
   "source": [
    "import numpy as np\n",
    "from ipycanvas import Canvas, hold_canvas\n",
    "\n",
    "canvas = Canvas(width=400, height=300)\n",
    "n_rects = 300\n",
    "x = np.random.randint(0, canvas.width, size=(n_rects))\n",
    "y = np.random.randint(0, canvas.width, size=(n_rects))\n",
    "width = np.random.randint(10, 40, size=(n_rects))\n",
    "height = np.random.randint(10, 40, size=(n_rects))\n",
    "colors_fill = np.random.randint(0, 255, size=(n_rects, 3))\n",
    "colors_outline = np.random.randint(0, 255, size=(n_rects, 3))\n",
    "alphas = np.random.random(n_rects)\n",
    "with hold_canvas():\n",
    "    canvas.fill_styled_rects(x, y, width, height, color=colors_fill, alpha=alphas)\n",
    "    canvas.line_width = 2\n",
    "    canvas.stroke_styled_rects(x, y, width, height, color=colors_outline, alpha=alphas)\n",
    "canvas"
   ]
  },
  {
   "cell_type": "code",
   "execution_count": 29,
   "id": "a8e48098-b893-40f4-b6d2-bd97b1bb0cda",
   "metadata": {},
   "outputs": [
    {
     "data": {
      "application/vnd.jupyter.widget-view+json": {
       "model_id": "d1d90748f2bc454f8e3eabd09344adf3",
       "version_major": 2,
       "version_minor": 0
      },
      "text/plain": [
       "Canvas(height=400, width=400)"
      ]
     },
     "metadata": {},
     "output_type": "display_data"
    }
   ],
   "source": [
    "import numpy as np\n",
    "from ipycanvas import Canvas, hold_canvas\n",
    "\n",
    "canvas = Canvas(width=400, height=400)\n",
    "n_polygons = 20\n",
    "points_per_polygon = np.random.randint(3, 6, size=n_polygons)\n",
    "total_points = np.sum(points_per_polygon)\n",
    "polygons = np.random.randint(0, 400, size=[total_points, 2])\n",
    "alpha = np.random.random(n_polygons)\n",
    "colors_fill = np.random.randint(0, 255, size=(n_polygons, 3))\n",
    "colors_outline = np.random.randint(0, 255, size=(n_polygons, 3))\n",
    "\n",
    "with hold_canvas():\n",
    "    # the filling\n",
    "    canvas.fill_styled_polygons(\n",
    "        polygons, points_per_polygon=points_per_polygon, color=colors_fill, alpha=alpha\n",
    "    )\n",
    "\n",
    "    # draw outlines ontop where each line has the same style\n",
    "    canvas.stroke_style = \"black\"\n",
    "    canvas.line_width = 2\n",
    "    canvas.stroke_polygons(polygons, points_per_polygon=points_per_polygon)\n",
    "canvas"
   ]
  },
  {
   "cell_type": "code",
   "execution_count": 32,
   "id": "666dd1cc-6479-4cb0-ab20-4bfb170d71c3",
   "metadata": {},
   "outputs": [
    {
     "data": {
      "application/vnd.jupyter.widget-view+json": {
       "model_id": "c99fc823915c41469669d59d1cc18d03",
       "version_major": 2,
       "version_minor": 0
      },
      "text/plain": [
       "RoughCanvas()"
      ]
     },
     "metadata": {},
     "output_type": "display_data"
    }
   ],
   "source": [
    "from ipycanvas import RoughCanvas\n",
    "\n",
    "canvas = RoughCanvas()\n",
    "\n",
    "canvas.stroke_style = \"red\"\n",
    "canvas.fill_style = \"blue\"\n",
    "canvas.stroke_rect(100, 100, 100, 100)\n",
    "canvas.fill_rect(50, 50, 100, 100)\n",
    "\n",
    "canvas.stroke_style = \"purple\"\n",
    "canvas.fill_style = \"green\"\n",
    "canvas.stroke_circle(300, 300, 100)\n",
    "canvas.fill_circle(350, 350, 100)\n",
    "\n",
    "canvas.stroke_line(200, 200, 300, 300)\n",
    "\n",
    "canvas"
   ]
  }
 ],
 "metadata": {
  "kernelspec": {
   "display_name": "Python 3 (ipykernel)",
   "language": "python",
   "name": "python3"
  },
  "language_info": {
   "codemirror_mode": {
    "name": "ipython",
    "version": 3
   },
   "file_extension": ".py",
   "mimetype": "text/x-python",
   "name": "python",
   "nbconvert_exporter": "python",
   "pygments_lexer": "ipython3",
   "version": "3.10.10"
  }
 },
 "nbformat": 4,
 "nbformat_minor": 5
}
