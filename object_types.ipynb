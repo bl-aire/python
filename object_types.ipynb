{
 "cells": [
  {
   "cell_type": "markdown",
   "id": "b8ee90d0-93ad-42ea-8282-ad96679db1b4",
   "metadata": {},
   "source": [
    "## Python Object Types\n",
    "\n",
    "In an informal sense, in Puython \"we do THINGS with STUFF\".\n",
    "\n",
    "- THINGS take the form of operators (+, -, /, * etc)\n",
    "- STUFF refer to objects on which operations are performed.\n",
    "  Data takes the form of \"objects\" and they can be BUILT-IN or CREATED with Python classes or external language tools like C extension libraries.\n",
    "\n",
    "### Python Conceptual Hierachy\n",
    "\n",
    "Python programs can be decomposed into Modules, Statements, Expressions and Objects as follows:\n",
    "\n",
    "- Programs are composed of modules\n",
    "- Modules contain statements\n",
    "- Statements contain expressions\n",
    "- Expressions create and process objects\n",
    "\n",
    "### Why Built-in types?\n",
    "\n",
    "They:\n",
    "\n",
    "- Make programs easy to write\n",
    "- Are components of extensions\n",
    "- Are more efficient\n",
    "- Are a standard part of the language"
   ]
  },
  {
   "cell_type": "markdown",
   "id": "0ee20102-8304-4407-9368-0f7496eb94dd",
   "metadata": {},
   "source": [
    "## Numbers\n",
    "\n",
    "- Integers\n",
    "- Floating point\n",
    "- Rationals?\n",
    "- Full-feutured set?"
   ]
  },
  {
   "cell_type": "code",
   "execution_count": 2,
   "id": "301373b9-9afd-4718-9aa9-0e98010572a0",
   "metadata": {},
   "outputs": [
    {
     "data": {
      "text/plain": [
       "int"
      ]
     },
     "execution_count": 2,
     "metadata": {},
     "output_type": "execute_result"
    }
   ],
   "source": [
    "type(1)"
   ]
  },
  {
   "cell_type": "code",
   "execution_count": 3,
   "id": "1e00557c-c4d4-47bc-82f2-fc25dab2b910",
   "metadata": {},
   "outputs": [
    {
     "data": {
      "text/plain": [
       "float"
      ]
     },
     "execution_count": 3,
     "metadata": {},
     "output_type": "execute_result"
    }
   ],
   "source": [
    "type(1.3)"
   ]
  },
  {
   "cell_type": "code",
   "execution_count": 6,
   "id": "6aa32594-7f4f-4c89-8e08-424c43c9a7fb",
   "metadata": {},
   "outputs": [
    {
     "data": {
      "text/plain": [
       "657"
      ]
     },
     "execution_count": 6,
     "metadata": {},
     "output_type": "execute_result"
    }
   ],
   "source": [
    "123 + 534"
   ]
  },
  {
   "cell_type": "code",
   "execution_count": 7,
   "id": "c3ec87a2-26db-4a0f-9af1-b5d8f44dba3e",
   "metadata": {},
   "outputs": [
    {
     "data": {
      "text/plain": [
       "6.0"
      ]
     },
     "execution_count": 7,
     "metadata": {},
     "output_type": "execute_result"
    }
   ],
   "source": [
    "1.5 * 4"
   ]
  },
  {
   "cell_type": "code",
   "execution_count": 8,
   "id": "e77089db-5145-4d7a-a4d7-3a4b159fbe07",
   "metadata": {},
   "outputs": [
    {
     "data": {
      "text/plain": [
       "1267650600228229401496703205376"
      ]
     },
     "execution_count": 8,
     "metadata": {},
     "output_type": "execute_result"
    }
   ],
   "source": [
    "2 ** 100"
   ]
  },
  {
   "cell_type": "code",
   "execution_count": 15,
   "id": "b2466c19-0905-49b3-87ea-5394b9989104",
   "metadata": {},
   "outputs": [
    {
     "data": {
      "text/plain": [
       "302"
      ]
     },
     "execution_count": 15,
     "metadata": {},
     "output_type": "execute_result"
    }
   ],
   "source": [
    "len(str(2 ** 1000))"
   ]
  },
  {
   "cell_type": "markdown",
   "id": "a953ca4c-ad75-4179-88a4-a0faab13fef5",
   "metadata": {},
   "source": [
    "### Numeric modules\n",
    "\n",
    "Asides expressions, there are useful numeric modules(packages of additional tools imported for use) that ship with Python:"
   ]
  },
  {
   "cell_type": "code",
   "execution_count": 16,
   "id": "25348524-7beb-408f-b3a2-3413d8e48dbf",
   "metadata": {},
   "outputs": [],
   "source": [
    "import math"
   ]
  },
  {
   "cell_type": "code",
   "execution_count": 17,
   "id": "45fe5de9-c3de-4936-9a14-f15f9118f47b",
   "metadata": {},
   "outputs": [
    {
     "data": {
      "text/plain": [
       "3.141592653589793"
      ]
     },
     "execution_count": 17,
     "metadata": {},
     "output_type": "execute_result"
    }
   ],
   "source": [
    "math.pi"
   ]
  },
  {
   "cell_type": "code",
   "execution_count": 18,
   "id": "348161f9-9ab0-4caf-aaa7-72f3646ba645",
   "metadata": {},
   "outputs": [
    {
     "data": {
      "text/plain": [
       "12.0"
      ]
     },
     "execution_count": 18,
     "metadata": {},
     "output_type": "execute_result"
    }
   ],
   "source": [
    "math.sqrt(144)"
   ]
  },
  {
   "cell_type": "code",
   "execution_count": 19,
   "id": "40938123-166f-473b-ab27-c30823fa3ea1",
   "metadata": {},
   "outputs": [],
   "source": [
    "import random"
   ]
  },
  {
   "cell_type": "code",
   "execution_count": 20,
   "id": "e31ac4f6-8c83-46c2-b5af-b68980ff7c3d",
   "metadata": {},
   "outputs": [
    {
     "data": {
      "text/plain": [
       "0.8623665263445195"
      ]
     },
     "execution_count": 20,
     "metadata": {},
     "output_type": "execute_result"
    }
   ],
   "source": [
    "random.random()"
   ]
  },
  {
   "cell_type": "code",
   "execution_count": 21,
   "id": "c9140007-da74-4e53-820b-69ab04932f43",
   "metadata": {},
   "outputs": [
    {
     "data": {
      "text/plain": [
       "0.2618236713797595"
      ]
     },
     "execution_count": 21,
     "metadata": {},
     "output_type": "execute_result"
    }
   ],
   "source": [
    "random.random()"
   ]
  },
  {
   "cell_type": "code",
   "execution_count": 22,
   "id": "9f8acffc-e0f7-4581-be35-8c5461199344",
   "metadata": {},
   "outputs": [
    {
     "data": {
      "text/plain": [
       "5"
      ]
     },
     "execution_count": 22,
     "metadata": {},
     "output_type": "execute_result"
    }
   ],
   "source": [
    "random.choice([5, 6, 7, 8])"
   ]
  },
  {
   "cell_type": "code",
   "execution_count": 23,
   "id": "1be81db5-a518-4c26-9132-f8d43c78154b",
   "metadata": {},
   "outputs": [
    {
     "data": {
      "text/plain": [
       "True"
      ]
     },
     "execution_count": 23,
     "metadata": {},
     "output_type": "execute_result"
    }
   ],
   "source": [
    "type([]) is list"
   ]
  },
  {
   "cell_type": "code",
   "execution_count": 24,
   "id": "2b0f5509-37f8-4b67-81a5-24be72dc8797",
   "metadata": {},
   "outputs": [
    {
     "data": {
      "text/plain": [
       "True"
      ]
     },
     "execution_count": 24,
     "metadata": {},
     "output_type": "execute_result"
    }
   ],
   "source": [
    "type({}) is dict"
   ]
  },
  {
   "cell_type": "code",
   "execution_count": 25,
   "id": "220eb7fd-41d3-45a9-a9b0-891db68b42c5",
   "metadata": {},
   "outputs": [
    {
     "data": {
      "text/plain": [
       "True"
      ]
     },
     "execution_count": 25,
     "metadata": {},
     "output_type": "execute_result"
    }
   ],
   "source": [
    "type('') is str"
   ]
  },
  {
   "cell_type": "code",
   "execution_count": 26,
   "id": "887b3e7b-cbb1-403d-aeb7-02e515ef7290",
   "metadata": {},
   "outputs": [
    {
     "data": {
      "text/plain": [
       "True"
      ]
     },
     "execution_count": 26,
     "metadata": {},
     "output_type": "execute_result"
    }
   ],
   "source": [
    "class Test1 (object):\n",
    "    pass\n",
    "class Test2 (Test1):\n",
    "    pass\n",
    "a = Test1()\n",
    "b = Test2()\n",
    "type(a) is Test1\n",
    "type(b) is Test2"
   ]
  },
  {
   "cell_type": "markdown",
   "id": "932ef8c5-61e8-412a-a4a3-a19e5f28cf4b",
   "metadata": {},
   "source": [
    "## Strings \n",
    "\n",
    "- Are a sequence of one-character strings\n",
    "- Are used to record textual info and arbitrary collections of bytes like an image file's content\n",
    "- Are an e.g of \"Sequence\" - a positionally ordered collection of other object.\n",
    "- Sequences maintain a left-to-right order\n",
    "- Seguence e.g list, tuples\n"
   ]
  },
  {
   "cell_type": "markdown",
   "id": "168c9822-74cc-44cb-ac39-bf84b865f0b5",
   "metadata": {},
   "source": [
    "### Sequence Operations\n",
    "\n",
    "Note: \n",
    "- Index count from the left starts from 0 and from the right starts from -1\n",
    "- Slicing: a[b:c] in simple term means give me everything from b down to(but not including c)"
   ]
  },
  {
   "cell_type": "code",
   "execution_count": 1,
   "id": "c7caf325-5ade-48ba-834f-46c4edccd2b3",
   "metadata": {},
   "outputs": [],
   "source": [
    "x = \"Blessing\""
   ]
  },
  {
   "cell_type": "code",
   "execution_count": 2,
   "id": "26c4ec13-daff-4092-9962-e0d102b2f4a5",
   "metadata": {},
   "outputs": [
    {
     "data": {
      "text/plain": [
       "8"
      ]
     },
     "execution_count": 2,
     "metadata": {},
     "output_type": "execute_result"
    }
   ],
   "source": [
    "len(x)"
   ]
  },
  {
   "cell_type": "code",
   "execution_count": 3,
   "id": "c4220087-7068-4bf7-911b-43aaf583c17e",
   "metadata": {},
   "outputs": [
    {
     "data": {
      "text/plain": [
       "'s'"
      ]
     },
     "execution_count": 3,
     "metadata": {},
     "output_type": "execute_result"
    }
   ],
   "source": [
    "x[3]"
   ]
  },
  {
   "cell_type": "code",
   "execution_count": 7,
   "id": "2718244b-b194-435f-bd5f-5dca967b2cb0",
   "metadata": {},
   "outputs": [
    {
     "data": {
      "text/plain": [
       "'n'"
      ]
     },
     "execution_count": 7,
     "metadata": {},
     "output_type": "execute_result"
    }
   ],
   "source": [
    "x[-2]"
   ]
  },
  {
   "cell_type": "code",
   "execution_count": 8,
   "id": "e9fba874-9d6f-4930-8ed3-39c5508d4ad9",
   "metadata": {},
   "outputs": [
    {
     "data": {
      "text/plain": [
       "'g'"
      ]
     },
     "execution_count": 8,
     "metadata": {},
     "output_type": "execute_result"
    }
   ],
   "source": [
    "x[len(x)-1]"
   ]
  },
  {
   "cell_type": "code",
   "execution_count": 9,
   "id": "f5911d41-139e-4e86-9365-cbf9b36efe07",
   "metadata": {},
   "outputs": [
    {
     "data": {
      "text/plain": [
       "'le'"
      ]
     },
     "execution_count": 9,
     "metadata": {},
     "output_type": "execute_result"
    }
   ],
   "source": [
    "x[1:3]"
   ]
  },
  {
   "cell_type": "code",
   "execution_count": 10,
   "id": "4ea81540-6524-43c9-b800-2cfbe4fd2377",
   "metadata": {},
   "outputs": [],
   "source": [
    "s = 'spam'"
   ]
  },
  {
   "cell_type": "code",
   "execution_count": 15,
   "id": "edda3123-3e50-432d-8a9b-1872e3d31c4e",
   "metadata": {},
   "outputs": [
    {
     "data": {
      "text/plain": [
       "'pam'"
      ]
     },
     "execution_count": 15,
     "metadata": {},
     "output_type": "execute_result"
    }
   ],
   "source": [
    "s[1:]"
   ]
  },
  {
   "cell_type": "code",
   "execution_count": 14,
   "id": "efcf5f3c-22b8-4590-82b2-d91d880dd394",
   "metadata": {},
   "outputs": [
    {
     "data": {
      "text/plain": [
       "'spa'"
      ]
     },
     "execution_count": 14,
     "metadata": {},
     "output_type": "execute_result"
    }
   ],
   "source": [
    "s[0:3]"
   ]
  },
  {
   "cell_type": "code",
   "execution_count": 13,
   "id": "93431f4c-ba2a-4b1a-8cd5-4dcab8a56aa8",
   "metadata": {},
   "outputs": [
    {
     "data": {
      "text/plain": [
       "'spa'"
      ]
     },
     "execution_count": 13,
     "metadata": {},
     "output_type": "execute_result"
    }
   ],
   "source": [
    "s[:3]"
   ]
  },
  {
   "cell_type": "code",
   "execution_count": 16,
   "id": "f802c9c6-a3cd-4ca1-b640-c0a67b16f03b",
   "metadata": {},
   "outputs": [
    {
     "data": {
      "text/plain": [
       "'spa'"
      ]
     },
     "execution_count": 16,
     "metadata": {},
     "output_type": "execute_result"
    }
   ],
   "source": [
    "s[:-1]"
   ]
  },
  {
   "cell_type": "code",
   "execution_count": 18,
   "id": "c2d8f131-8d4b-4435-8d1f-c15d8f165ec1",
   "metadata": {},
   "outputs": [
    {
     "data": {
      "text/plain": [
       "'spam'"
      ]
     },
     "execution_count": 18,
     "metadata": {},
     "output_type": "execute_result"
    }
   ],
   "source": [
    "s[:]"
   ]
  },
  {
   "cell_type": "code",
   "execution_count": 20,
   "id": "f84fb200-3738-426a-a562-66b5fe4dd0bb",
   "metadata": {},
   "outputs": [
    {
     "data": {
      "text/plain": [
       "'spamabc'"
      ]
     },
     "execution_count": 20,
     "metadata": {},
     "output_type": "execute_result"
    }
   ],
   "source": [
    "s + 'abc'"
   ]
  },
  {
   "cell_type": "code",
   "execution_count": 21,
   "id": "328ac2dc-b3c2-4b29-a50e-9439b81ffb5b",
   "metadata": {},
   "outputs": [
    {
     "data": {
      "text/plain": [
       "'spamspamspamspamspam'"
      ]
     },
     "execution_count": 21,
     "metadata": {},
     "output_type": "execute_result"
    }
   ],
   "source": [
    "s * 5"
   ]
  },
  {
   "cell_type": "code",
   "execution_count": null,
   "id": "0b271586-7e5f-447f-9d09-67c812001436",
   "metadata": {},
   "outputs": [],
   "source": []
  }
 ],
 "metadata": {
  "kernelspec": {
   "display_name": "Python 3 (ipykernel)",
   "language": "python",
   "name": "python3"
  },
  "language_info": {
   "codemirror_mode": {
    "name": "ipython",
    "version": 3
   },
   "file_extension": ".py",
   "mimetype": "text/x-python",
   "name": "python",
   "nbconvert_exporter": "python",
   "pygments_lexer": "ipython3",
   "version": "3.10.10"
  }
 },
 "nbformat": 4,
 "nbformat_minor": 5
}
