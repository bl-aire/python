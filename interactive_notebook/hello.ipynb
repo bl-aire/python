{
 "cells": [
  {
   "cell_type": "code",
   "execution_count": 1,
   "id": "08aba4fe-7a2a-48b8-a043-13a1699bb9db",
   "metadata": {},
   "outputs": [
    {
     "name": "stdout",
     "output_type": "stream",
     "text": [
      "Hello\n"
     ]
    }
   ],
   "source": [
    "print(\"Hello\")"
   ]
  },
  {
   "cell_type": "code",
   "execution_count": 6,
   "id": "eedd07b0-a8d8-4855-92bc-5ab72b96c7c6",
   "metadata": {},
   "outputs": [],
   "source": [
    "def print_greeting():\n",
    "    print(\"Hello\")\n",
    "    print(\"The weather is nice\")"
   ]
  },
  {
   "cell_type": "code",
   "execution_count": 8,
   "id": "5086c56f-98f9-407a-a86d-15f50f04a06a",
   "metadata": {},
   "outputs": [
    {
     "name": "stdout",
     "output_type": "stream",
     "text": [
      "Hello\n",
      "The weather is nice\n"
     ]
    }
   ],
   "source": [
    "print_greeting()"
   ]
  },
  {
   "cell_type": "code",
   "execution_count": 11,
   "id": "1a15276b-72e0-4586-929b-dfb0c38b2005",
   "metadata": {},
   "outputs": [
    {
     "name": "stdout",
     "output_type": "stream",
     "text": [
      "2013/4/3\n"
     ]
    }
   ],
   "source": [
    "def print_date(year, month, day = 3):\n",
    "    joined = str(year) + '/' + str(month) + '/' + str(day)\n",
    "    print(joined)\n",
    "print_date(2013, 4)"
   ]
  },
  {
   "cell_type": "code",
   "execution_count": null,
   "id": "29cf237e-7e7b-427c-ab5e-a61319f81edc",
   "metadata": {},
   "outputs": [],
   "source": []
  }
 ],
 "metadata": {
  "kernelspec": {
   "display_name": "Python 3 (ipykernel)",
   "language": "python",
   "name": "python3"
  },
  "language_info": {
   "codemirror_mode": {
    "name": "ipython",
    "version": 3
   },
   "file_extension": ".py",
   "mimetype": "text/x-python",
   "name": "python",
   "nbconvert_exporter": "python",
   "pygments_lexer": "ipython3",
   "version": "3.10.10"
  }
 },
 "nbformat": 4,
 "nbformat_minor": 5
}
