{
 "cells": [
  {
   "cell_type": "code",
   "execution_count": 1,
   "id": "ed9fab74-0499-4a3a-bf06-3ab9115fe635",
   "metadata": {},
   "outputs": [
    {
     "name": "stdout",
     "output_type": "stream",
     "text": [
      "Hello\n"
     ]
    }
   ],
   "source": [
    "print(\"Hello\")"
   ]
  },
  {
   "cell_type": "code",
   "execution_count": 2,
   "id": "80d9da85-7da8-4422-a056-499a186c7d0f",
   "metadata": {},
   "outputs": [],
   "source": [
    "x=(3**3)"
   ]
  },
  {
   "cell_type": "code",
   "execution_count": 3,
   "id": "2f20a276-8983-4af5-bdf9-5799381abd67",
   "metadata": {},
   "outputs": [
    {
     "data": {
      "text/plain": [
       "27"
      ]
     },
     "execution_count": 3,
     "metadata": {},
     "output_type": "execute_result"
    }
   ],
   "source": [
    "x"
   ]
  },
  {
   "cell_type": "code",
   "execution_count": 7,
   "id": "e0e18eca-5143-41da-9aed-b62a04dfe0b6",
   "metadata": {},
   "outputs": [
    {
     "data": {
      "text/plain": [
       "'spam! spam! spam! spam! spam! spam! spam! spam! spam! spam! '"
      ]
     },
     "execution_count": 7,
     "metadata": {},
     "output_type": "execute_result"
    }
   ],
   "source": [
    "\"spam! \" * 10"
   ]
  },
  {
   "cell_type": "code",
   "execution_count": 8,
   "id": "d3ae1981-82f9-4dbf-ba4e-2267ab3cf454",
   "metadata": {},
   "outputs": [
    {
     "data": {
      "text/plain": [
       "'/Users/blaire/Documents/PYTHON'"
      ]
     },
     "execution_count": 8,
     "metadata": {},
     "output_type": "execute_result"
    }
   ],
   "source": [
    "import os\n",
    "os.getcwd()"
   ]
  },
  {
   "cell_type": "code",
   "execution_count": 10,
   "id": "38f7d593-cd0c-40b1-a9f3-2926d6ff71f8",
   "metadata": {},
   "outputs": [
    {
     "name": "stdout",
     "output_type": "stream",
     "text": [
      "Hello\n",
      "Hello\n",
      "Hello\n",
      "Hello\n",
      "Hello\n",
      "Hello\n",
      "Hi\n"
     ]
    }
   ],
   "source": [
    "for x in 'yellow':\n",
    "    print(\"Hello\")\n",
    "print(\"Hi\")"
   ]
  },
  {
   "cell_type": "code",
   "execution_count": 11,
   "id": "20a622f6-c57f-450b-b16d-646cb835aa92",
   "metadata": {},
   "outputs": [
    {
     "name": "stdout",
     "output_type": "stream",
     "text": [
      "darwin\n"
     ]
    }
   ],
   "source": [
    "import sys\n",
    "print(sys.platform)"
   ]
  },
  {
   "cell_type": "code",
   "execution_count": null,
   "id": "de41bb93-38d3-47d4-875a-b9093f4c952e",
   "metadata": {},
   "outputs": [],
   "source": []
  }
 ],
 "metadata": {
  "kernelspec": {
   "display_name": "Python 3 (ipykernel)",
   "language": "python",
   "name": "python3"
  },
  "language_info": {
   "codemirror_mode": {
    "name": "ipython",
    "version": 3
   },
   "file_extension": ".py",
   "mimetype": "text/x-python",
   "name": "python",
   "nbconvert_exporter": "python",
   "pygments_lexer": "ipython3",
   "version": "3.10.10"
  }
 },
 "nbformat": 4,
 "nbformat_minor": 5
}
